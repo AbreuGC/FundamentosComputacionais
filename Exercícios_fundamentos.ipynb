{
  "nbformat": 4,
  "nbformat_minor": 0,
  "metadata": {
    "colab": {
      "provenance": []
    },
    "kernelspec": {
      "name": "python3",
      "display_name": "Python 3"
    },
    "language_info": {
      "name": "python"
    }
  },
  "cells": [
    {
      "cell_type": "markdown",
      "source": [
        "1. Exercício de Condicionais(IF/ELIF/ELSE)\n"
      ],
      "metadata": {
        "id": "GkCdbbk64REi"
      }
    },
    {
      "cell_type": "code",
      "source": [
        "def verificar_tempertura(temperatura):\n",
        "  if 50 <= temperatura <= 70:\n",
        "     fase = 1\n",
        "     return f\"Fase: {fase} - Temperatura OK\"\n",
        "  elif 71 <= temperatura <= 90:\n",
        "     fase = 2\n",
        "     return f\"Fase: {fase} - Temperatura OK\"\n",
        "  else:\n",
        "     return \"Fora das faixas! Alerta: Temperatura critica!\"\n",
        "\n",
        "print(verificar_tempertura(65))\n",
        "print(verificar_tempertura(85))\n",
        "print(verificar_tempertura(95))"
      ],
      "metadata": {
        "colab": {
          "base_uri": "https://localhost:8080/"
        },
        "id": "mzY9z4wq6B-q",
        "outputId": "640bfa9c-ac97-44e6-9ec5-256cb552f93b"
      },
      "execution_count": null,
      "outputs": [
        {
          "output_type": "stream",
          "name": "stdout",
          "text": [
            "Fase: 1 - Temperatura OK\n",
            "Fase: 2 - Temperatura OK\n",
            "Fora das faixas! Alerta: Temperatura critica!\n"
          ]
        }
      ]
    },
    {
      "cell_type": "markdown",
      "source": [
        "2. Exercício de Loops (FOR/WHILE)"
      ],
      "metadata": {
        "id": "DGOAweWe6K0B"
      }
    },
    {
      "cell_type": "code",
      "source": [
        "import math\n",
        "\n",
        "C0 = 10 #mol/L\n",
        "k = 0.1 #s**-1\n",
        "t = 0\n",
        "t_final = 50\n",
        "dt = 5 #passo de tempo\n",
        "\n",
        "for t in range(0, t_final + dt, dt):\n",
        "  C = C0 * math.exp(-k*t)\n",
        "  print(f\"t = {t}s -> C = {C:.2f}mol/L\")"
      ],
      "metadata": {
        "colab": {
          "base_uri": "https://localhost:8080/"
        },
        "id": "aH9gCDZe6JE5",
        "outputId": "5d946158-7a08-455e-e553-ed61dabc808f"
      },
      "execution_count": null,
      "outputs": [
        {
          "output_type": "stream",
          "name": "stdout",
          "text": [
            "t = 0s -> C = 10.00mol/L\n",
            "t = 5s -> C = 6.07mol/L\n",
            "t = 10s -> C = 3.68mol/L\n",
            "t = 15s -> C = 2.23mol/L\n",
            "t = 20s -> C = 1.35mol/L\n",
            "t = 25s -> C = 0.82mol/L\n",
            "t = 30s -> C = 0.50mol/L\n",
            "t = 35s -> C = 0.30mol/L\n",
            "t = 40s -> C = 0.18mol/L\n",
            "t = 45s -> C = 0.11mol/L\n",
            "t = 50s -> C = 0.07mol/L\n"
          ]
        }
      ]
    },
    {
      "cell_type": "code",
      "source": [
        "import math\n",
        "\n",
        "C0 = 10 #mol/L\n",
        "k = 0.1 #s**-1\n",
        "t = 0\n",
        "t_final = 50\n",
        "dt = 5 #passo de tempo\n",
        "while t <= t_final:\n",
        "  C = C0 * math.exp(-k*t)\n",
        "  print(f\"t = {t}s -> C = {C:.2f}mol/L\")\n",
        "  if C < 1:\n",
        "    break\n",
        "  t += dt"
      ],
      "metadata": {
        "colab": {
          "base_uri": "https://localhost:8080/"
        },
        "id": "_cCc7zFl84GZ",
        "outputId": "4d1fc8e2-e758-40dc-c990-0fd18ecd5558"
      },
      "execution_count": null,
      "outputs": [
        {
          "output_type": "stream",
          "name": "stdout",
          "text": [
            "t = 0s -> C = 10.00mol/L\n",
            "t = 5s -> C = 6.07mol/L\n",
            "t = 10s -> C = 3.68mol/L\n",
            "t = 15s -> C = 2.23mol/L\n",
            "t = 20s -> C = 1.35mol/L\n",
            "t = 25s -> C = 0.82mol/L\n"
          ]
        }
      ]
    },
    {
      "cell_type": "markdown",
      "source": [
        "3. Exercício de Funções"
      ],
      "metadata": {
        "id": "DrN6OVUQ90MR"
      }
    },
    {
      "cell_type": "code",
      "source": [
        "import math\n",
        "\n",
        "def calcular_pH(concentracao: float) -> float:\n",
        "  try:\n",
        "    if concentracao <= 0:\n",
        "      raise ValueError(\"Concentração inválida1\")\n",
        "\n",
        "    pH = -math.log10(concentracao)\n",
        "    return round(pH, 2)\n",
        "  except(TypeError, ValueError):\n",
        "    return \"Erro: Concentração inválida\"\n",
        "\n",
        "print(calcular_pH(0.01)) #Saída: 2.0\n",
        "print(calcular_pH(\"abc\"))  #Saída: erro\n",
        "print(calcular_pH(None)) #Saída: erro\n"
      ],
      "metadata": {
        "colab": {
          "base_uri": "https://localhost:8080/"
        },
        "id": "VFX8-mt2931Z",
        "outputId": "0399bd02-e6f5-4dcf-b20b-464fa440512b"
      },
      "execution_count": null,
      "outputs": [
        {
          "output_type": "stream",
          "name": "stdout",
          "text": [
            "2.0\n",
            "Erro: Concentração inválida\n",
            "Erro: Concentração inválida\n"
          ]
        }
      ]
    },
    {
      "cell_type": "markdown",
      "source": [
        "4. Integração: Sistema de MOnitoramento (Condicionais + Loops + Funções)"
      ],
      "metadata": {
        "id": "1wcc9gNf_i2B"
      }
    },
    {
      "cell_type": "code",
      "source": [
        "import random\n",
        "\n",
        "def gerar_temperatura():\n",
        "  \"\"\"\n",
        "  fsfndjfndsj\n",
        "  \"\"\"\n",
        "  return random.randint(0, 100)\n",
        "\n",
        "def verificar_alarme(temp):\n",
        "  if temp < 20 or temp > 80:\n",
        "    return \"ALARME\"\n",
        "  else:\n",
        "    return \"OK\"\n",
        "\n",
        "def sistema_monitoramento():\n",
        "  alarmes = 1\n",
        "  for minuto in range(1, 31, 5):\n",
        "    temperatura = gerar_temperatura()\n",
        "    status = verificar_alarme(temperatura)\n",
        "    print(f\"Minuto{minuto}: {temperatura}°C - {status}({alarmes}/3)\")\n",
        "    if status == \"ALARME\":\n",
        "      alarmes += 1\n",
        "    if alarmes >= 3:\n",
        "      print(\"Parando monitoramento\")\n",
        "      break\n",
        "sistema_monitoramento()"
      ],
      "metadata": {
        "colab": {
          "base_uri": "https://localhost:8080/"
        },
        "id": "MKzgoTjt_tZR",
        "outputId": "5dc7ca09-9758-47d0-cc01-07742eb200d3"
      },
      "execution_count": null,
      "outputs": [
        {
          "output_type": "stream",
          "name": "stdout",
          "text": [
            "Minuto1: 5°C - ALARME(1/3)\n",
            "Minuto6: 100°C - ALARME(2/3)\n",
            "Parando monitoramento\n"
          ]
        }
      ]
    }
  ]
}