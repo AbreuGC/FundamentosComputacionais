{
  "cells": [
    {
      "cell_type": "markdown",
      "metadata": {
        "id": "view-in-github",
        "colab_type": "text"
      },
      "source": [
        "<a href=\"https://colab.research.google.com/github/AbreuGC/FundamentosComputacionais/blob/main/Prova1_Fundamentos_Computacionais.ipynb\" target=\"_parent\"><img src=\"https://colab.research.google.com/assets/colab-badge.svg\" alt=\"Open In Colab\"/></a>"
      ]
    },
    {
      "cell_type": "markdown",
      "id": "f6ca22f1",
      "metadata": {
        "id": "f6ca22f1"
      },
      "source": [
        "# Prova 1 – Fundamentos Computacionais para Engenharia (ENG-17401)\n",
        "**Aluno:** Gustavo Abreu Coelho  \n",
        "**Professor:** Julio Cesar Sampaio Dutra  \n",
        "**Data:** 18/06/2025  \n"
      ]
    },
    {
      "cell_type": "markdown",
      "id": "03e3ae37",
      "metadata": {
        "id": "03e3ae37"
      },
      "source": [
        "## Parte 1 – Conceitos Fundamentais"
      ]
    },
    {
      "cell_type": "markdown",
      "id": "e898997a",
      "metadata": {
        "id": "e898997a"
      },
      "source": [
        "### Questão 1 (1,5 pts)\n",
        "\n",
        "**O que é um algoritmo? Qual sua importância na Engenharia Química? Dê um exemplo.**\n",
        "\n",
        "Um **algoritmo** é um conjunto finito de instruções claras e ordenadas para resolver um problema.\n",
        "\n",
        "**Importância na Engenharia Química:**\n",
        "- Automatiza cálculos e processos;\n",
        "- Permite modelar sistemas complexos;\n",
        "- Reduz erros manuais;\n",
        "- Facilita a tomada de decisão com base em dados.\n",
        "\n",
        "**Exemplo:** Cálculo do pH de uma solução ácida:\n",
        "\n",
        "```text\n",
        "Entrada: concentração [H+]\n",
        "Processamento: pH = -log10([H+])\n",
        "Saída: valor do pH\n",
        "```"
      ]
    },
    {
      "cell_type": "markdown",
      "id": "6c544026",
      "metadata": {
        "id": "6c544026"
      },
      "source": [
        "### Questão 2 (2,5 pts)\n",
        "\n",
        "#### (a) Linguagens compiladas vs. interpretadas\n",
        "\n",
        "- **Compiladas:** Traduzem todo o código de uma vez, criando um executável (Ex: C, C++).\n",
        "  - **Vantagem:** execução mais rápida.\n",
        "  - **Desvantagem:** depuração mais demorada (erros só no fim).\n",
        "\n",
        "- **Interpretadas:** Traduzem linha por linha durante a execução (Ex: Python, JavaScript).\n",
        "  - **Vantagem:** fácil de testar e depurar.\n",
        "  - **Desvantagem:** execução mais lenta.\n",
        "\n",
        "#### (b) Programação imperativa vs. procedural\n",
        "\n",
        "- **Imperativa:** Define passo a passo como o código será executado.\n",
        "- **Procedural:** Estilo imperativo com foco em **funções reutilizáveis** (blocos de código).\n",
        "\n",
        "**Vantagens da procedural:**\n",
        "- Organiza melhor o código;\n",
        "- Reduz redundância;\n",
        "- Facilita manutenção e testes."
      ]
    },
    {
      "cell_type": "markdown",
      "id": "d6dd65e4",
      "metadata": {
        "id": "d6dd65e4"
      },
      "source": [
        "### Questão 3 (3,0 pts)\n",
        "\n",
        "#### (a) Impacto do Zen of Python no código\n",
        "\n",
        "Princípios como:\n",
        "- \"Explicit is better than implicit\"\n",
        "- \"Simple is better than complex\"\n",
        "- \"Readability counts\"\n",
        "\n",
        "**Impactam diretamente** na manutenção e compreensão do código, essenciais para a engenharia.\n",
        "\n",
        "#### (b) Exemplo de má prática"
      ]
    },
    {
      "cell_type": "code",
      "execution_count": null,
      "id": "a56916a3",
      "metadata": {
        "id": "a56916a3"
      },
      "outputs": [],
      "source": [
        "# Ruim: difícil de entender\n",
        "f = lambda x: x if x > 0 else -x"
      ]
    },
    {
      "cell_type": "code",
      "execution_count": null,
      "id": "552321c2",
      "metadata": {
        "id": "552321c2"
      },
      "outputs": [],
      "source": [
        "# Melhor forma\n",
        "def valor_absoluto(x: float) -> float:\n",
        "    \"\"\"Retorna o valor absoluto de um número.\"\"\"\n",
        "    if x > 0:\n",
        "        return x\n",
        "    else:\n",
        "        return -x"
      ]
    },
    {
      "cell_type": "markdown",
      "id": "40cbbe32",
      "metadata": {
        "id": "40cbbe32"
      },
      "source": [
        "## Parte 2 – Aplicações e Lógica Computacional"
      ]
    },
    {
      "cell_type": "markdown",
      "id": "5dddc7b3",
      "metadata": {
        "id": "5dddc7b3"
      },
      "source": [
        "### Questão 4 (3,0 pts)\n",
        "\n",
        "#### (a) Pseudocódigo do sistema de monitoramento\n",
        "\n",
        "```text\n",
        "INICIO\n",
        "  alarmes ← 0\n",
        "  tempo ← 0\n",
        "\n",
        "  ENQUANTO tempo < 20 E alarmes < 3 FAÇA:\n",
        "    gerar pressão aleatória entre 1.0 e 6.0\n",
        "    exibir pressão\n",
        "\n",
        "    SE pressão < 2.0 OU pressão > 5.0 ENTAO:\n",
        "        exibir \"Alarme ativado\"\n",
        "        alarmes ← alarmes + 1\n",
        "    SENAO:\n",
        "        exibir \"Pressão normal\"\n",
        "\n",
        "    tempo ← tempo + 2\n",
        "    exibir quantidade de alarmes\n",
        "\n",
        "    SE alarmes == 3 ENTAO:\n",
        "        exibir \"Sistema interrompido\"\n",
        "        SAIR\n",
        "\n",
        "FIM\n",
        "```"
      ]
    },
    {
      "cell_type": "markdown",
      "id": "337e2e4b",
      "metadata": {
        "id": "337e2e4b"
      },
      "source": [
        "#### (b) Código Python para o sistema de monitoramento"
      ]
    },
    {
      "cell_type": "code",
      "execution_count": null,
      "id": "ce63f006",
      "metadata": {
        "colab": {
          "base_uri": "https://localhost:8080/"
        },
        "id": "ce63f006",
        "outputId": "fdd9f84c-1169-47d8-e42d-f6ae155dd140"
      },
      "outputs": [
        {
          "output_type": "stream",
          "name": "stdout",
          "text": [
            "Tempo: 2 min | Pressão: 1.17 bar\n",
            "⚠️ Alarme ativado!\n",
            "Alarmes acumulados: 1\n",
            "\n",
            "Tempo: 4 min | Pressão: 2.67 bar\n",
            "✅ Pressão normal.\n",
            "Alarmes acumulados: 1\n",
            "\n",
            "Tempo: 6 min | Pressão: 4.6 bar\n",
            "✅ Pressão normal.\n",
            "Alarmes acumulados: 1\n",
            "\n",
            "Tempo: 8 min | Pressão: 1.33 bar\n",
            "⚠️ Alarme ativado!\n",
            "Alarmes acumulados: 2\n",
            "\n",
            "Tempo: 10 min | Pressão: 4.56 bar\n",
            "✅ Pressão normal.\n",
            "Alarmes acumulados: 2\n",
            "\n",
            "Tempo: 12 min | Pressão: 5.77 bar\n",
            "⚠️ Alarme ativado!\n",
            "Alarmes acumulados: 3\n",
            "\n",
            "🚨 Sistema interrompido preventivamente.\n"
          ]
        }
      ],
      "source": [
        "import random\n",
        "\n",
        "def gerar_pressao() -> float:\n",
        "    \"\"\"Retorna uma pressão aleatória entre 1.0 e 6.0 bar.\"\"\"\n",
        "    return round(random.uniform(1.0, 6.0), 2)\n",
        "\n",
        "def verificar_pressao(pressao: float) -> bool:\n",
        "    \"\"\"Verifica se a pressão está fora da faixa segura (2.0 a 5.0 bar).\"\"\"\n",
        "    return pressao < 2.0 or pressao > 5.0\n",
        "\n",
        "def monitorar_sistema():\n",
        "    \"\"\"\n",
        "    Simula monitoramento de pressão por 20 minutos (leituras a cada 2 min).\n",
        "    Interrompe após 3 alarmes.\n",
        "    \"\"\"\n",
        "    alarmes = 0\n",
        "    leituras = 10\n",
        "\n",
        "    for i in range(leituras):\n",
        "        pressao = gerar_pressao()\n",
        "        print(f\"Tempo: {2*(i+1)} min | Pressão: {pressao} bar\")\n",
        "\n",
        "        if verificar_pressao(pressao):\n",
        "            alarmes += 1\n",
        "            print(\"⚠️ Alarme ativado!\")\n",
        "        else:\n",
        "            print(\"✅ Pressão normal.\")\n",
        "\n",
        "        print(f\"Alarmes acumulados: {alarmes}\\n\")\n",
        "\n",
        "        if alarmes == 3:\n",
        "            print(\"🚨 Sistema interrompido preventivamente.\")\n",
        "            break\n",
        "\n",
        "monitorar_sistema()"
      ]
    }
  ],
  "metadata": {
    "colab": {
      "provenance": [],
      "include_colab_link": true
    },
    "language_info": {
      "name": "python"
    },
    "kernelspec": {
      "name": "python3",
      "display_name": "Python 3"
    }
  },
  "nbformat": 4,
  "nbformat_minor": 5
}