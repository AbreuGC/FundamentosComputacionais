{
  "nbformat": 4,
  "nbformat_minor": 0,
  "metadata": {
    "colab": {
      "provenance": [],
      "authorship_tag": "ABX9TyMvCkvP6wdQWrhn5blVLZOM",
      "include_colab_link": true
    },
    "kernelspec": {
      "name": "python3",
      "display_name": "Python 3"
    },
    "language_info": {
      "name": "python"
    }
  },
  "cells": [
    {
      "cell_type": "markdown",
      "metadata": {
        "id": "view-in-github",
        "colab_type": "text"
      },
      "source": [
        "<a href=\"https://colab.research.google.com/github/AbreuGC/FundamentosComputacionais/blob/main/24_06_2025.ipynb\" target=\"_parent\"><img src=\"https://colab.research.google.com/assets/colab-badge.svg\" alt=\"Open In Colab\"/></a>"
      ]
    },
    {
      "cell_type": "markdown",
      "source": [
        "**Aluno:** Gustavo Abreu Coelho  \n",
        "**Professor:** Julio Cesar Sampaio Dutra  \n",
        "**Data:** 24/06/2025  "
      ],
      "metadata": {
        "id": "6RbvTAXe-Bh_"
      }
    },
    {
      "cell_type": "markdown",
      "source": [
        "### Exercício"
      ],
      "metadata": {
        "id": "qLlVo_YmGeaT"
      }
    },
    {
      "cell_type": "code",
      "execution_count": null,
      "metadata": {
        "colab": {
          "base_uri": "https://localhost:8080/"
        },
        "id": "peCkYceP3ROw",
        "outputId": "30a7bab8-5e83-4b23-c68e-4a5f368ec139"
      },
      "outputs": [
        {
          "output_type": "stream",
          "name": "stdout",
          "text": [
            "Situação 1:\n",
            "Vazão da saída: 150.00 Kg/h\n",
            "Concentração de sal na saída: 0.17 %\n",
            "\n",
            "Situação 2(corrente A modificada):\n",
            "Vazão da saída: 100.00 Kg/h\n",
            "Concentração de sal na saída: 0.23 %\n",
            "\n"
          ]
        }
      ],
      "source": [
        "\n",
        "def cal_saída(vazao_a, conc_a, vazao_b, conc_b):\n",
        "  \"\"\"\n",
        "  Calcula a vazão e a concentração de sal na saída do misturador\n",
        "  Parâmetros:\n",
        "    vazao_a: Vazão da corrente A(kg/h)\n",
        "    conc_a: Concentração de sal na corrente A(%)\n",
        "    vazao_b: Vazão da corrente B(kg/h)\n",
        "    conc_b: Concentração de sal na corrente B(%)\n",
        "\n",
        "  Retorno:\n",
        "    vazao_saida: Vazão da saída(kg/h)\n",
        "    conc_saida: Concentração de sal na saída(%)\n",
        "  \"\"\"\n",
        "  # Converter % para fração\n",
        "  frac_a = conc_a / 100\n",
        "  frac_b = conc_b / 100\n",
        "\n",
        "  # Massa de sal em cada corrente\n",
        "  sal_a = vazao_a * frac_a\n",
        "  sal_b = vazao_b * frac_b\n",
        "\n",
        "  #Vazão total e massa total de sal na saída\n",
        "  vazao_saida = vazao_a + vazao_b\n",
        "  sal_total = sal_a + sal_b\n",
        "\n",
        "  #Concentração de sal na saída\n",
        "  conc_saida = (sal_total / vazao_saida)*100\n",
        "\n",
        "  return vazao_saida, conc_saida\n",
        "\n",
        "# === Situação 1 ===\n",
        "vazao1, conc1 = cal_saída(100, 0.1, 50, 0.3)\n",
        "print(f\"Situação 1:\")\n",
        "print(f\"Vazão da saída: {vazao1:.2f} Kg/h\")\n",
        "print(f\"Concentração de sal na saída: {conc1:.2f} %\\n\")\n",
        "\n",
        "# === Situação 2: Corrente A modificada ===\n",
        "vazao1_mod, conc1_mod = cal_saída(100*0.5, 0.1*1.5, 50, 0.3)\n",
        "print(\"Situação 2(corrente A modificada):\")\n",
        "print(f\"Vazão da saída: {vazao1_mod:.2f} Kg/h\")\n",
        "print(f\"Concentração de sal na saída: {conc1_mod:.2f} %\\n\")"
      ]
    },
    {
      "cell_type": "markdown",
      "source": [],
      "metadata": {
        "id": "qy1z51uu-DJt"
      }
    }
  ]
}